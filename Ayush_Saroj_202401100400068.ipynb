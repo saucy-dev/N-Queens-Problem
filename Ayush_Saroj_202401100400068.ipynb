{
  "nbformat": 4,
  "nbformat_minor": 0,
  "metadata": {
    "colab": {
      "provenance": []
    },
    "kernelspec": {
      "name": "python3",
      "display_name": "Python 3"
    },
    "language_info": {
      "name": "python"
    }
  },
  "cells": [
    {
      "cell_type": "markdown",
      "source": [
        "N-Queens Problem"
      ],
      "metadata": {
        "id": "y62T_72gRvza"
      }
    },
    {
      "cell_type": "code",
      "execution_count": 25,
      "metadata": {
        "id": "R5tWFXpLN_58"
      },
      "outputs": [],
      "source": [
        "import random #imports random library\n",
        "import pandas as pd #imports pandas\n",
        "import matplotlib.pyplot as plt #importsmatplotlibrary"
      ]
    },
    {
      "cell_type": "code",
      "source": [
        "# this function is defined to find the number of conflicts for a given configuration\n",
        "def calculate_conflicts(board):\n",
        "    conflicts = 0\n",
        "    n = len(board)\n",
        "\n",
        "    for i in range(n):\n",
        "        for j in range(i + 1, n):\n",
        "            if board[i] == board[j] or abs(board[i] - board[j]) == j - i:\n",
        "                conflicts += 1\n",
        "    return conflicts"
      ],
      "metadata": {
        "id": "ZurUw_pdQ1rq"
      },
      "execution_count": 26,
      "outputs": []
    },
    {
      "cell_type": "code",
      "source": [
        "# this function is to generate a random configuration of queens\n",
        "def random_queen_configuration(n):\n",
        "    return [random.randint(0, n - 1) for _ in range(n)]"
      ],
      "metadata": {
        "id": "sfbDvudIRHbb"
      },
      "execution_count": 27,
      "outputs": []
    },
    {
      "cell_type": "code",
      "source": [
        "# this function is defined to perform hill climbing search for the N-Queens solution\n",
        "def hill_climbing(n):\n",
        "    board = random_queen_configuration(n)\n",
        "    conflicts = calculate_conflicts(board)\n",
        "\n",
        "    if conflicts == 0:\n",
        "        return board\n",
        "\n",
        "    while True:\n",
        "        best_board = None\n",
        "        best_conflicts = conflicts\n",
        "\n",
        "        for row in range(n):\n",
        "            for col in range(n):\n",
        "                if col == board[row]:\n",
        "                    continue\n",
        "\n",
        "                new_board = board[:]\n",
        "                new_board[row] = col\n",
        "                new_conflicts = calculate_conflicts(new_board)\n",
        "\n",
        "                if new_conflicts < best_conflicts:\n",
        "                    best_conflicts = new_conflicts\n",
        "                    best_board = new_board\n",
        "\n",
        "        if best_conflicts == conflicts:\n",
        "            break\n",
        "\n",
        "        board = best_board\n",
        "        conflicts = best_conflicts\n",
        "\n",
        "        if conflicts == 0:\n",
        "            return board\n",
        "\n",
        "    return board"
      ],
      "metadata": {
        "id": "6_ClGC_LRNDB"
      },
      "execution_count": 28,
      "outputs": []
    },
    {
      "cell_type": "code",
      "source": [
        "#displaying the board in a human-readable way\n",
        "def display_board(board):\n",
        "    n = len(board)\n",
        "    for i in range(n):\n",
        "        row = ['Q' if j == board[i] else '.' for j in range(n)]\n",
        "        print(' '.join(row))"
      ],
      "metadata": {
        "id": "cX2GolP7RXQp"
      },
      "execution_count": 29,
      "outputs": []
    },
    {
      "cell_type": "code",
      "source": [
        "# to test the solution for different values of N\n",
        "def solve_n_queens(n):\n",
        "    solution = hill_climbing(n)\n",
        "    display_board(solution)\n",
        "    print(\"\\nSolution found!\")"
      ],
      "metadata": {
        "id": "R6onHb7GRb8C"
      },
      "execution_count": 30,
      "outputs": []
    },
    {
      "cell_type": "code",
      "source": [
        "# Function to generate the chessboard as a Pandas DataFrame\n",
        "def create_chessboard(board):\n",
        "    \"\"\"\n",
        "    Create a DataFrame representation of the chessboard.\n",
        "    Rows and columns with queens will be marked as 1, others as 0.\n",
        "    \"\"\"\n",
        "    n = len(board)\n",
        "    chessboard = [[0] * n for _ in range(n)]\n",
        "\n",
        "    for i, col in enumerate(board):\n",
        "        chessboard[i][col] = 1  # Mark the queen's position as 1\n",
        "\n",
        "    df = pd.DataFrame(chessboard)\n",
        "    return df\n",
        "\n",
        "# Function to visualize the N-Queens board\n",
        "def visualize_n_queens(board):\n",
        "    \"\"\"\n",
        "    Visualize the N-Queens board using Matplotlib.\n",
        "    \"\"\"\n",
        "    df = create_chessboard(board)\n",
        "    plt.figure(figsize=(6, 6))\n",
        "    plt.imshow(df, cmap=\"Greys\", interpolation=\"nearest\")\n",
        "\n",
        "    # Add the queens as red markers\n",
        "    for i, col in enumerate(board):\n",
        "        plt.text(col, i, \"Q\", ha=\"center\", va=\"center\", color=\"red\", fontsize=16)\n",
        "\n",
        "    plt.title(\"N-Queens Solution\", fontsize=14)\n",
        "    plt.xticks(range(len(board)))  # Show column indices\n",
        "    plt.yticks(range(len(board)))  # Show row indices\n",
        "    plt.gca().invert_yaxis()  # Invert y-axis to match chessboard convention\n",
        "    plt.show()\n",
        "\n",
        "# Example N-Queens solution\n",
        "if __name__ == \"__main__\":\n",
        "    # Example board configuration for N = 8\n",
        "    solution = [0, 4, 7, 5, 2, 6, 1, 3]  # A valid solution for the 8-Queens problem\n",
        "    visualize_n_queens(solution)\n"
      ],
      "metadata": {
        "colab": {
          "base_uri": "https://localhost:8080/",
          "height": 546
        },
        "id": "UiYXXuygYe7P",
        "outputId": "a7d4877b-4c9f-4051-885b-cfbdfce89ff3"
      },
      "execution_count": 31,
      "outputs": [
        {
          "output_type": "display_data",
          "data": {
            "text/plain": [
              "<Figure size 600x600 with 1 Axes>"
            ],
            "image/png": "[encoded data removed]"
          },
          "metadata": {}
        }
      ]
    },
    {
      "cell_type": "code",
      "source": [
        "# Example usage\n",
        "if __name__ == \"__main__\":\n",
        "    try:\n",
        "      while True:\n",
        "        n=int(input(\"Enter Value of N = \"))\n",
        "        print(\"\\nSolution for N = \",n,\":\\n\")\n",
        "        solve_n_queens(n)\n",
        "    except:\n",
        "      print(\"Error !\")"
      ],
      "metadata": {
        "colab": {
          "base_uri": "https://localhost:8080/"
        },
        "id": "2kiG5mdURepx",
        "outputId": "2538f97f-5d62-4ca8-8b9f-f9acd0095c2b"
      },
      "execution_count": 34,
      "outputs": [
        {
          "output_type": "stream",
          "name": "stdout",
          "text": [
            "Enter Value of N = 3\n",
            "\n",
            "Solution for N =  3 :\n",
            "\n",
            "Q . .\n",
            ". . Q\n",
            "Q . .\n",
            "\n",
            "Solution found!\n",
            "Enter Value of N = 7\n",
            "\n",
            "Solution for N =  7 :\n",
            "\n",
            ". . . . . Q .\n",
            ". Q . . . . .\n",
            ". . . . Q . .\n",
            "Q . . . . . .\n",
            ". . . Q . . .\n",
            ". . . . . . Q\n",
            ". . Q . . . .\n",
            "\n",
            "Solution found!\n",
            "Enter Value of N = 8\n",
            "\n",
            "Solution for N =  8 :\n",
            "\n",
            ". . . . . Q . .\n",
            ". . Q . . . . .\n",
            "Q . . . . . . .\n",
            ". . . . . . . Q\n",
            ". . . . Q . . .\n",
            ". . . . . . . Q\n",
            ". Q . . . . . .\n",
            ". . . . . . Q .\n",
            "\n",
            "Solution found!\n",
            "Enter Value of N = 10\n",
            "\n",
            "Solution for N =  10 :\n",
            "\n",
            ". . . . . . . . Q .\n",
            ". . . . Q . . . . .\n",
            "Q . . . . . . . . .\n",
            ". . . . . . . . . Q\n",
            ". . . . . . Q . . .\n",
            ". Q . . . . . . . .\n",
            ". . . Q . . . . . .\n",
            ". . . . . . . Q . .\n",
            ". . . . . . . . . Q\n",
            ". . Q . . . . . . .\n",
            "\n",
            "Solution found!\n",
            "Enter Value of N = x\n",
            "Error !\n"
          ]
        }
      ]
    }
  ]
}